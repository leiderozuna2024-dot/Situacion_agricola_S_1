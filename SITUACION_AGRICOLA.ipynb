{
  "nbformat": 4,
  "nbformat_minor": 0,
  "metadata": {
    "colab": {
      "provenance": [],
      "authorship_tag": "ABX9TyMV4EfBw2L+5vtW+QhhFbd1",
      "include_colab_link": true
    },
    "kernelspec": {
      "name": "python3",
      "display_name": "Python 3"
    },
    "language_info": {
      "name": "python"
    }
  },
  "cells": [
    {
      "cell_type": "markdown",
      "metadata": {
        "id": "view-in-github",
        "colab_type": "text"
      },
      "source": [
        "<a href=\"https://colab.research.google.com/github/leiderozuna2024-dot/Situacion_agricola_S_1/blob/main/SITUACION_AGRICOLA.ipynb\" target=\"_parent\"><img src=\"https://colab.research.google.com/assets/colab-badge.svg\" alt=\"Open In Colab\"/></a>"
      ]
    },
    {
      "cell_type": "markdown",
      "source": [
        "\" SITUACION DE INTERES EN I. AGRICOLA\n",
        "\n",
        " Un agricultor necesita saber cuántos kilogramos\n",
        " de semilla de maíz debe comprar para sembrar un lote rectangular. Conoce la densidad de siembra\n",
        " recomendada (kg por hectárea) y las dimensiones del lote (largo y ancho en metros)."
      ],
      "metadata": {
        "id": "pZJFhajRS4hn"
      }
    },
    {
      "cell_type": "code",
      "execution_count": 8,
      "metadata": {
        "colab": {
          "base_uri": "https://localhost:8080/"
        },
        "id": "64JzV1PlSgVB",
        "outputId": "6379262c-b737-4878-e8db-5ba0970afb24"
      },
      "outputs": [
        {
          "output_type": "stream",
          "name": "stdout",
          "text": [
            "¡Hola! Vamos a calcular la cantidad de semillas de maíz para sembrar un lote rectangular.\n",
            "Ingrese el largo del lote en metros: 123\n",
            "Ingrese el ancho del lote en metros: 234\n",
            "Ingrese la densidad de siembra en kg/hectárea: 1000\n",
            "La cantidad de semillas de maíz a comprar es de 2878.2000000000003 kilogramos.\n"
          ]
        }
      ],
      "source": [
        "# 1. Saludar al usuario y explicar qué hace el programa.\n",
        "print(\"¡Hola! Vamos a calcular la cantidad de semillas de maíz para sembrar un lote rectangular.\")\n",
        "\n",
        "# 2. Pedir al usuario que ingrese el largo del lote en metros (inputa sin convertir NO USAR FLOAT).\n",
        "\n",
        "largo = input(\"Ingrese el largo del lote en metros: \")\n",
        "\n",
        "# 3. Pedir al usuario que ingrese el ancho del lote en metros.\n",
        "\n",
        "ancho = input(\"Ingrese el ancho del lote en metros: \")\n",
        "\n",
        "# 4.  Pedir la densidad de siembra en kg/hectárea (input).\n",
        "\n",
        "densidad = input(\"Ingrese la densidad de siembra en kg/hectárea: \")\n",
        "\n",
        "# 5.  Convertir las entradas de texto a números decimales (float).\n",
        "\n",
        "largo = float(largo)\n",
        "ancho = float(ancho)\n",
        "densidad = float(densidad)\n",
        "\n",
        "# 6.  Calcular el área en metros cuadrados (largo * ancho).\n",
        "area = largo * ancho\n",
        "\n",
        "# 7. Convertir el área a hectáreas (1 hectárea = 10,000 m²)\n",
        "area_hectareas = area / 10000\n",
        "\n",
        "# 8. Calcular la cantidad de semillas de maíz en kilogramos (area_hectareas * densidad).\n",
        "cantidad_semillas = area_hectareas * densidad\n",
        "\n",
        "# 9.  Mostrar el resultado final al usuario de forma clara (print).\n",
        "print(\"La cantidad de semillas de maíz a comprar es de\", cantidad_semillas, \"kilogramos.\")\n",
        "\n"
      ]
    },
    {
      "cell_type": "markdown",
      "metadata": {
        "id": "e399aa68"
      },
      "source": [
        "# Explicacion del codigo\n",
        "\n",
        "Este código calcula la cantidad de semillas de maíz necesarias para sembrar un terreno rectangular.\n",
        "\n",
        "1.  **Saludo y explicación**: Imprime un mensaje de bienvenida y explica el propósito del programa.\n",
        "2.  **Entrada - Largo**: Solicita al usuario que ingrese la longitud del terreno en metros y lo guarda como texto en la variable `largo`.\n",
        "3.  **Entrada - Ancho**: Solicita al usuario que ingrese el ancho del terreno en metros y lo guarda como texto en la variable `ancho`.\n",
        "4.  **Entrada - Densidad**: Solicita al usuario que ingrese la densidad de siembra recomendada en kg/hectárea y lo guarda como texto en la variable `densidad`.\n",
        "5.  **Convertir entradas a float**: Convierte las entradas de texto (`largo`, `ancho`, `densidad`) a números decimales (float) para poder realizar cálculos.\n",
        "6.  **Calcular área en metros cuadrados**: Calcula el área del terreno en metros cuadrados multiplicando `largo` por `ancho`, guardando el resultado en la variable `area`.\n",
        "7.  **Convertir área a hectáreas**: Convierte el área de metros cuadrados a hectáreas dividiendo por 10,000 (ya que 1 hectárea = 10,000 m²), guardando el resultado en `area_hectareas`.\n",
        "8.  **Calcular cantidad de semillas**: Calcula la cantidad total de semillas necesarias en kilogramos multiplicando el área en hectáreas (`area_hectareas`) por la densidad de siembra (`densidad`), guardando el resultado en `cantidad_semillas`.\n",
        "9.  **Mostrar resultado**: Finalmente, imprime la cantidad calculada de semillas que el usuario necesita comprar."
      ]
    }
  ]
}