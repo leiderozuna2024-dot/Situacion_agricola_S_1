{
  "nbformat": 4,
  "nbformat_minor": 0,
  "metadata": {
    "colab": {
      "provenance": [],
      "authorship_tag": "ABX9TyOLTJWl/sAYKwOp0y74dQUl",
      "include_colab_link": true
    },
    "kernelspec": {
      "name": "python3",
      "display_name": "Python 3"
    },
    "language_info": {
      "name": "python"
    }
  },
  "cells": [
    {
      "cell_type": "markdown",
      "metadata": {
        "id": "view-in-github",
        "colab_type": "text"
      },
      "source": [
        "<a href=\"https://colab.research.google.com/github/leiderozuna2024-dot/Situacion_agricola_S_1/blob/main/SITUACION_AGRICOLA.ipynb\" target=\"_parent\"><img src=\"https://colab.research.google.com/assets/colab-badge.svg\" alt=\"Open In Colab\"/></a>"
      ]
    },
    {
      "cell_type": "markdown",
      "source": [
        "\" SITUACION DE INTERES EN I. AGRICOLA\n",
        "\n",
        " Un agricultor necesita saber cuántos kilogramos\n",
        " de semilla de maíz debe comprar para sembrar un lote rectangular. Conoce la densidad de siembra\n",
        " recomendada (kg por hectárea) y las dimensiones del lote (largo y ancho en metros)."
      ],
      "metadata": {
        "id": "pZJFhajRS4hn"
      }
    },
    {
      "cell_type": "code",
      "execution_count": 8,
      "metadata": {
        "colab": {
          "base_uri": "https://localhost:8080/"
        },
        "id": "64JzV1PlSgVB",
        "outputId": "6379262c-b737-4878-e8db-5ba0970afb24"
      },
      "outputs": [
        {
          "output_type": "stream",
          "name": "stdout",
          "text": [
            "¡Hola! Vamos a calcular la cantidad de semillas de maíz para sembrar un lote rectangular.\n",
            "Ingrese el largo del lote en metros: 123\n",
            "Ingrese el ancho del lote en metros: 234\n",
            "Ingrese la densidad de siembra en kg/hectárea: 1000\n",
            "La cantidad de semillas de maíz a comprar es de 2878.2000000000003 kilogramos.\n"
          ]
        }
      ],
      "source": [
        "# 1. Saludar al usuario y explicar qué hace el programa.\n",
        "print(\"¡Hola! Vamos a calcular la cantidad de semillas de maíz para sembrar un lote rectangular.\")\n",
        "\n",
        "# 2. Pedir al usuario que ingrese el largo del lote en metros (inputa sin convertir NO USAR FLOAT).\n",
        "\n",
        "largo = input(\"Ingrese el largo del lote en metros: \")\n",
        "\n",
        "# 3. Pedir al usuario que ingrese el ancho del lote en metros.\n",
        "\n",
        "ancho = input(\"Ingrese el ancho del lote en metros: \")\n",
        "\n",
        "# 4.  Pedir la densidad de siembra en kg/hectárea (input).\n",
        "\n",
        "densidad = input(\"Ingrese la densidad de siembra en kg/hectárea: \")\n",
        "\n",
        "# 5.  Convertir las entradas de texto a números decimales (float).\n",
        "\n",
        "largo = float(largo)\n",
        "ancho = float(ancho)\n",
        "densidad = float(densidad)\n",
        "\n",
        "# 6.  Calcular el área en metros cuadrados (largo * ancho).\n",
        "area = largo * ancho\n",
        "\n",
        "# 7. Convertir el área a hectáreas (1 hectárea = 10,000 m²)\n",
        "area_hectareas = area / 10000\n",
        "\n",
        "# 8. Calcular la cantidad de semillas de maíz en kilogramos (area_hectareas * densidad).\n",
        "cantidad_semillas = area_hectareas * densidad\n",
        "\n",
        "# 9.  Mostrar el resultado final al usuario de forma clara (print).\n",
        "print(\"La cantidad de semillas de maíz a comprar es de\", cantidad_semillas, \"kilogramos.\")\n",
        "\n"
      ]
    },
    {
      "cell_type": "markdown",
      "metadata": {
        "id": "e399aa68"
      },
      "source": [
        "# Explicacion del codigo\n",
        "\n",
        "Este código calcula la cantidad de semillas de maíz necesarias para sembrar un terreno rectangular.\n",
        "\n",
        "1.  **Saludo y explicación**: Imprime un mensaje de bienvenida y explica el propósito del programa.\n",
        "2.  **Entrada - Largo**: Solicita al usuario que ingrese la longitud del terreno en metros y lo guarda como texto en la variable `largo`.\n",
        "3.  **Entrada - Ancho**: Solicita al usuario que ingrese el ancho del terreno en metros y lo guarda como texto en la variable `ancho`.\n",
        "4.  **Entrada - Densidad**: Solicita al usuario que ingrese la densidad de siembra recomendada en kg/hectárea y lo guarda como texto en la variable `densidad`.\n",
        "5.  **Convertir entradas a float**: Convierte las entradas de texto (`largo`, `ancho`, `densidad`) a números decimales (float) para poder realizar cálculos.\n",
        "6.  **Calcular área en metros cuadrados**: Calcula el área del terreno en metros cuadrados multiplicando `largo` por `ancho`, guardando el resultado en la variable `area`.\n",
        "7.  **Convertir área a hectáreas**: Convierte el área de metros cuadrados a hectáreas dividiendo por 10,000 (ya que 1 hectárea = 10,000 m²), guardando el resultado en `area_hectareas`.\n",
        "8.  **Calcular cantidad de semillas**: Calcula la cantidad total de semillas necesarias en kilogramos multiplicando el área en hectáreas (`area_hectareas`) por la densidad de siembra (`densidad`), guardando el resultado en `cantidad_semillas`.\n",
        "9.  **Mostrar resultado**: Finalmente, imprime la cantidad calculada de semillas que el usuario necesita comprar."
      ]
    },
    {
      "cell_type": "markdown",
      "source": [
        "## concepto de variable\n",
        "\n",
        "¿Qué es una variable en Python y para qué sirve?\n",
        "\n",
        "Imagina una variable como una caja etiquetada donde puedes guardar información. En Python, las variables son nombres que usas para referirte a valores. Estos valores pueden ser números, texto, listas, y muchos otros tipos de datos.\n",
        "\n",
        "Analogía:\n",
        "\n",
        "Piensa en tu cocina. Tienes diferentes recipientes con etiquetas: uno para el azúcar, otro para la sal, otro para la harina, etc. Cada recipiente es como una variable, la etiqueta es el nombre de la variable, y lo que guardas dentro es el valor. Puedes cambiar lo que hay dentro de los recipientes (el valor de la variable) en cualquier momento.\n",
        "\n",
        "En Python, cuando escribes algo como:\n",
        "\n",
        "edad = 30\n",
        "nombre = \"Ana\"\n",
        "Estás creando dos \"cajas\": una etiquetada como edad donde guardas el número 30, y otra etiquetada como nombre donde guardas el texto \"Ana\". Luego puedes usar estas etiquetas (edad y nombre) para acceder a los valores que contienen.\n",
        "\n",
        "¿Por qué la función input() siempre devuelve texto (string) y cómo puedo convertir ese texto en un número?\n",
        "\n",
        "La función input() en Python está diseñada para interactuar con el usuario y leer lo que escribe desde el teclado. Cuando el usuario escribe algo, ya sean números, letras o símbolos, input() lo recibe siempre como una secuencia de caracteres, es decir, como texto (un tipo de dato llamado string).\n",
        "\n",
        "Esto es así porque input() no sabe de antemano si el usuario va a escribir un número, una palabra o una combinación de ambos. Tratar todo como texto es la forma más segura de capturar cualquier cosa que el usuario ingrese.\n",
        "\n",
        "¿Cómo convertir ese texto en un número?\n",
        "\n",
        "Si necesitas usar la entrada del usuario como un número para realizar cálculos (como en el código que vimos antes, donde multiplicamos largo, ancho y densidad), debes convertir explícitamente el texto a un tipo numérico. Los tipos numéricos más comunes son:\n",
        "\n",
        "int: Para números enteros (sin decimales).\n",
        "float: Para números con decimales.\n",
        "Para hacer la conversión, usas las funciones int() o float():\n",
        "\n",
        "Si esperas un número entero: numero_entero = int(input(\"Ingresa un número entero: \"))\n",
        "Si esperas un número con decimales: numero_decimal = float(input(\"Ingresa un número con decimales: \"))"
      ],
      "metadata": {
        "id": "48LjiGuTa-sV"
      }
    },
    {
      "cell_type": "markdown",
      "source": [
        "Situación de Interés en Ingeniería Agroindustrial\n",
        "\n",
        "En una planta de procesamiento de mango,\n",
        " se quiere calcular el rendimiento de un lote de fruta. Se necesita un programa simple que tome el\n",
        " peso inicial de los mangos antes de pelarlos y deshuesarlos, y el peso final de la pulpa obtenida, para\n",
        " expresar el rendimiento como un porcentaje."
      ],
      "metadata": {
        "id": "aDY0Cl8gagF_"
      }
    },
    {
      "cell_type": "code",
      "source": [
        "# 1.  Explicar el propósito de la calculadora.\n",
        "print(\"¡Hola! Vamos a calcular el rendimiento de un lote de mangos.\")\n",
        "\n",
        "# 2. Pedir el peso inicial del lote de mangos en kg (input).\n",
        "peso_inicial = input(\"Ingrese el peso inicial del lote de mangos en kg: \")\n",
        "\n",
        "# 3. Pedir el peso final de la pulpa del lote de mangos en kg.\n",
        "peso_final = input(\"Ingrese el peso final de la pulpa del lote de mangos en kg: \")\n",
        "\n",
        "#3 Convertir ambos pesos a números decimales (float).\n",
        "peso_inicial = float(peso_inicial)\n",
        "peso_final = float(peso_final)\n",
        "\n",
        "# 4. Calcular el rendimiento como un porcentaje (peso_final / peso_inicial * 100).\n",
        "rendimiento = (peso_final / peso_inicial) * 100\n",
        "\n",
        "#5. Mostrar el resultado del rendimiento, formateado como porcentaje.\n",
        "print(\"El rendimiento del lote de mangos es del {:.2f} %\".format(rendimiento))\n",
        "\n"
      ],
      "metadata": {
        "colab": {
          "base_uri": "https://localhost:8080/"
        },
        "id": "scAZctjnboft",
        "outputId": "2d6a987e-3ea2-43d4-fec7-bf5376408af8"
      },
      "execution_count": 10,
      "outputs": [
        {
          "output_type": "stream",
          "name": "stdout",
          "text": [
            "¡Hola! Vamos a calcular el rendimiento de un lote de mangos.\n",
            "Ingrese el peso inicial del lote de mangos en kg: 1000\n",
            "Ingrese el peso final de la pulpa del lote de mangos en kg: 340\n",
            "El rendimiento del lote de mangos es del 34.00 %\n"
          ]
        }
      ]
    },
    {
      "cell_type": "markdown",
      "source": [
        "## explicacion del codigo\n",
        "\n",
        "Explicar el propósito de la calculadora: Imprime un mensaje de bienvenida y explica que el programa calculará el rendimiento de un lote de mangos.\n",
        "Pedir el peso inicial del lote de mangos en kg (input): Solicita al usuario que ingrese el peso total del lote de mangos antes de ser procesados y guarda esa entrada como texto en la variable peso_inicial.\n",
        "Pedir el peso final de la pulpa del lote de mangos en kg: Solicita al usuario que ingrese el peso de la pulpa obtenida después de pelar y deshuesar los mangos, guardando esa entrada como texto en la variable peso_final.\n",
        "Convertir ambos pesos a números decimales (float): Convierte las entradas de texto peso_inicial y peso_final a números decimales (tipo float) para poder realizar operaciones matemáticas con ellos.\n",
        "Calcular el rendimiento como un porcentaje (peso_final / peso_inicial * 100): Calcula el rendimiento dividiendo el peso final de la pulpa entre el peso inicial del lote y multiplicando el resultado por 100 para obtener un porcentaje. El resultado se guarda en la variable rendimiento.\n",
        "Mostrar el resultado del rendimiento, formateado como porcentaje: Imprime el rendimiento calculado. Se utiliza {:.2f} dentro del format() para asegurar que el número se muestre con dos decimales, lo cual es útil para porcentajes."
      ],
      "metadata": {
        "id": "r5SDfhuadCpE"
      }
    },
    {
      "cell_type": "markdown",
      "source": [
        "## EXPLICACION DE F\n",
        "\n",
        "En esta línea específica, no hay una letra f al principio de la cadena (justo antes de las comillas). La f de la que hablamos anteriormente se refiere a las \"f-strings\" (cadenas formateadas) que se usan colocando una f antes de las comillas, como en f\"Mi edad es {edad}\".\n",
        "\n",
        "En la línea de código que has seleccionado, el formato se realiza utilizando el método .format() al final de la cadena:\n",
        "\n",
        "La cadena \"El rendimiento del lote de mangos es del {:.2f} %\" es una plantilla.\n",
        "{:.2f} dentro de la cadena es un campo de formato.\n",
        ".format(rendimiento) le dice a Python que tome el valor de la variable rendimiento y lo inserte en el campo {}.\n",
        "El :.2f dentro de las llaves {} es lo que controla cómo se muestra el número:\n",
        "\n",
        ".2: Indica que queremos que se muestren exactamente dos decimales.\n",
        "f: Indica que el número debe ser tratado como un número de punto flotante (un número con decimales).\n",
        "Entonces, en esta línea en particular, no hay una f que inicie la cadena. La f que ves está dentro del campo de formato {:.2f} y significa \"mostrar como número de punto flotante\"."
      ],
      "metadata": {
        "id": "8XmsEVhDeOxq"
      }
    }
  ]
}