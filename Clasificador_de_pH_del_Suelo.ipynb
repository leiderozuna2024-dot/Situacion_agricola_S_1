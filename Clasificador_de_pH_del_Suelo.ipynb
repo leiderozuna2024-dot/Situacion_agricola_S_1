{
  "nbformat": 4,
  "nbformat_minor": 0,
  "metadata": {
    "colab": {
      "provenance": [],
      "authorship_tag": "ABX9TyNpC7Oa51m59jWTKpCYZZv8",
      "include_colab_link": true
    },
    "kernelspec": {
      "name": "python3",
      "display_name": "Python 3"
    },
    "language_info": {
      "name": "python"
    }
  },
  "cells": [
    {
      "cell_type": "markdown",
      "metadata": {
        "id": "view-in-github",
        "colab_type": "text"
      },
      "source": [
        "<a href=\"https://colab.research.google.com/github/leiderozuna2024-dot/Situacion_agricola_S_1/blob/main/Clasificador_de_pH_del_Suelo.ipynb\" target=\"_parent\"><img src=\"https://colab.research.google.com/assets/colab-badge.svg\" alt=\"Open In Colab\"/></a>"
      ]
    },
    {
      "cell_type": "markdown",
      "source": [
        "Clasificador de pH del Suelo El pH del suelo es un factor crítico para la absorción de nutrientes por parte de las plantas. Desarrollarás un programa que recibe un valor de pH e informa al agricultor si el suelo es ácido, neutro o alcalino, ofreciendo una recomendación general."
      ],
      "metadata": {
        "id": "HWXI0QN6cBYz"
      }
    },
    {
      "cell_type": "markdown",
      "metadata": {
        "id": "4223b704"
      },
      "source": [
        "Este programa clasifica el pH del suelo como ácido, neutro o alcalino basándose en el valor de pH proporcionado, y ofrece una recomendación."
      ]
    },
    {
      "cell_type": "code",
      "metadata": {
        "colab": {
          "base_uri": "https://localhost:8080/"
        },
        "id": "37daaa1b",
        "outputId": "c70fd71b-5781-43e6-8b31-738db225ac09"
      },
      "source": [
        "# Pedir al usuario que ingrese el valor de pH medido (puede ser decimal) y guardarlo en una variable.\n",
        "ph_value = float(input(\"Por favor, ingrese el valor de pH medido (puede ser decimal): \"))"
      ],
      "execution_count": 19,
      "outputs": [
        {
          "name": "stdout",
          "output_type": "stream",
          "text": [
            "Por favor, ingrese el valor de pH medido (puede ser decimal): 7\n"
          ]
        }
      ]
    },
    {
      "cell_type": "code",
      "metadata": {
        "colab": {
          "base_uri": "https://localhost:8080/"
        },
        "id": "9bdc726b",
        "outputId": "683af7db-4868-452a-9220-49516ea5a5db"
      },
      "source": [
        "# Clasificar el pH del suelo y ofrecer una recomendación\n",
        "if ph_value < 6.5:\n",
        "    print(\"El suelo es Ácido.\")\n",
        "    print(\"Recomendación: Considerar el uso de cal agrícola.\")\n",
        "elif ph_value > 7.5:\n",
        "    print(\"El suelo es Alcalino.\")\n",
        "    print(\"Recomendación: Considerar el uso de sulfato.\")\n",
        "else:\n",
        "    print(\"El suelo es Neutro.\")\n",
        "    print(\"Recomendación: El suelo neutro es ideal para la mayoría de los cultivos.\")"
      ],
      "execution_count": 20,
      "outputs": [
        {
          "output_type": "stream",
          "name": "stdout",
          "text": [
            "El suelo es Neutro.\n",
            "Recomendación: El suelo neutro es ideal para la mayoría de los cultivos.\n"
          ]
        }
      ]
    }
  ]
}